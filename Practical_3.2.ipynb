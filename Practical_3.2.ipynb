{
 "cells": [
  {
   "cell_type": "code",
   "execution_count": 42,
   "id": "7d6be0f4-9cd4-4357-a400-fb676cccb4bf",
   "metadata": {},
   "outputs": [],
   "source": [
    "import pandas as pd"
   ]
  },
  {
   "cell_type": "code",
   "execution_count": 28,
   "id": "de2eeee5-143c-443f-bd40-107e9ff8e0b4",
   "metadata": {},
   "outputs": [
    {
     "name": "stdout",
     "output_type": "stream",
     "text": [
      "      work_year experience_level employment_type                 job_title  \\\n",
      "0          2023               SE              FT  Principal Data Scientist   \n",
      "1          2023               MI              CT               ML Engineer   \n",
      "2          2023               MI              CT               ML Engineer   \n",
      "3          2023               SE              FT            Data Scientist   \n",
      "4          2023               SE              FT            Data Scientist   \n",
      "...         ...              ...             ...                       ...   \n",
      "3750       2020               SE              FT            Data Scientist   \n",
      "3751       2021               MI              FT  Principal Data Scientist   \n",
      "3752       2020               EN              FT            Data Scientist   \n",
      "3753       2020               EN              CT     Business Data Analyst   \n",
      "3754       2021               SE              FT      Data Science Manager   \n",
      "\n",
      "       salary salary_currency  salary_in_usd employee_residence  remote_ratio  \\\n",
      "0       80000             EUR          85847                 ES           100   \n",
      "1       30000             USD          30000                 US           100   \n",
      "2       25500             USD          25500                 US           100   \n",
      "3      175000             USD         175000                 CA           100   \n",
      "4      120000             USD         120000                 CA           100   \n",
      "...       ...             ...            ...                ...           ...   \n",
      "3750   412000             USD         412000                 US           100   \n",
      "3751   151000             USD         151000                 US           100   \n",
      "3752   105000             USD         105000                 US           100   \n",
      "3753   100000             USD         100000                 US           100   \n",
      "3754  7000000             INR          94665                 IN            50   \n",
      "\n",
      "     company_location company_size  \n",
      "0                  ES            L  \n",
      "1                  US            S  \n",
      "2                  US            S  \n",
      "3                  CA            M  \n",
      "4                  CA            M  \n",
      "...               ...          ...  \n",
      "3750               US            L  \n",
      "3751               US            L  \n",
      "3752               US            S  \n",
      "3753               US            L  \n",
      "3754               IN            L  \n",
      "\n",
      "[3755 rows x 11 columns]\n"
     ]
    }
   ],
   "source": [
    "data=pd.read_csv('ds_salaries.csv')\n",
    "print(data)"
   ]
  },
  {
   "cell_type": "code",
   "execution_count": 8,
   "id": "431c57ac-0e96-41fe-ab40-0e7b1fcbc7ce",
   "metadata": {},
   "outputs": [
    {
     "name": "stdout",
     "output_type": "stream",
     "text": [
      "Index(['work_year', 'salary', 'salary_in_usd', 'remote_ratio'], dtype='object')\n"
     ]
    }
   ],
   "source": [
    "numeric_columns=data.select_dtypes(include=['number']).columns\n",
    "print (numeric_columns)"
   ]
  },
  {
   "cell_type": "code",
   "execution_count": 9,
   "id": "cc2a0504-d98c-4025-8ef8-8718294447f1",
   "metadata": {},
   "outputs": [
    {
     "name": "stdout",
     "output_type": "stream",
     "text": [
      "Index(['experience_level', 'employment_type', 'job_title', 'salary_currency',\n",
      "       'employee_residence', 'company_location', 'company_size'],\n",
      "      dtype='object')\n"
     ]
    }
   ],
   "source": [
    "categorical_columns=data.select_dtypes(include=['object']).columns\n",
    "print (categorical_columns)"
   ]
  },
  {
   "cell_type": "code",
   "execution_count": 11,
   "id": "18e07b70-ff7e-43aa-8d2d-8969c652e372",
   "metadata": {},
   "outputs": [
    {
     "name": "stdout",
     "output_type": "stream",
     "text": [
      "      work_year   salary  salary_in_usd  remote_ratio\n",
      "0          2023    80000          85847           100\n",
      "1          2023    30000          30000           100\n",
      "2          2023    25500          25500           100\n",
      "3          2023   175000         175000           100\n",
      "4          2023   120000         120000           100\n",
      "...         ...      ...            ...           ...\n",
      "3750       2020   412000         412000           100\n",
      "3751       2021   151000         151000           100\n",
      "3752       2020   105000         105000           100\n",
      "3753       2020   100000         100000           100\n",
      "3754       2021  7000000          94665            50\n",
      "\n",
      "[3755 rows x 4 columns]\n"
     ]
    }
   ],
   "source": [
    "new_numeric_ds=data[numeric_columns]\n",
    "print(new_numeric_ds)"
   ]
  },
  {
   "cell_type": "code",
   "execution_count": 30,
   "id": "a0d662c7-f8ad-40fe-90b8-778c561a6cc6",
   "metadata": {},
   "outputs": [],
   "source": [
    "from sklearn import preprocessing"
   ]
  },
  {
   "cell_type": "code",
   "execution_count": 31,
   "id": "8bba01dd-b2fd-41b4-899a-f09273495dac",
   "metadata": {},
   "outputs": [],
   "source": [
    "enc = preprocessing.OneHotEncoder()"
   ]
  },
  {
   "cell_type": "code",
   "execution_count": 40,
   "id": "7335fc61-17da-4faa-9705-c24040eaceaf",
   "metadata": {},
   "outputs": [
    {
     "name": "stdout",
     "output_type": "stream",
     "text": [
      "        0    1    2    3\n",
      "0     0.0  0.0  1.0  0.0\n",
      "1     1.0  0.0  0.0  0.0\n",
      "2     1.0  0.0  0.0  0.0\n",
      "3     0.0  0.0  1.0  0.0\n",
      "4     0.0  0.0  1.0  0.0\n",
      "...   ...  ...  ...  ...\n",
      "3750  0.0  0.0  1.0  0.0\n",
      "3751  0.0  0.0  1.0  0.0\n",
      "3752  0.0  0.0  1.0  0.0\n",
      "3753  1.0  0.0  0.0  0.0\n",
      "3754  0.0  0.0  1.0  0.0\n",
      "\n",
      "[3755 rows x 4 columns]\n"
     ]
    }
   ],
   "source": [
    "enc_df = pd.DataFrame(enc.fit_transform(data[['employment_type']]).toarray())\n",
    "enc_df\n",
    "print(enc_df)\n"
   ]
  },
  {
   "cell_type": "code",
   "execution_count": 41,
   "id": "9837e746-0892-4776-9d1b-7b0093cc3665",
   "metadata": {},
   "outputs": [
    {
     "data": {
      "text/html": [
       "<div>\n",
       "<style scoped>\n",
       "    .dataframe tbody tr th:only-of-type {\n",
       "        vertical-align: middle;\n",
       "    }\n",
       "\n",
       "    .dataframe tbody tr th {\n",
       "        vertical-align: top;\n",
       "    }\n",
       "\n",
       "    .dataframe thead th {\n",
       "        text-align: right;\n",
       "    }\n",
       "</style>\n",
       "<table border=\"1\" class=\"dataframe\">\n",
       "  <thead>\n",
       "    <tr style=\"text-align: right;\">\n",
       "      <th></th>\n",
       "      <th>work_year</th>\n",
       "      <th>salary</th>\n",
       "      <th>salary_in_usd</th>\n",
       "      <th>remote_ratio</th>\n",
       "      <th>0</th>\n",
       "      <th>1</th>\n",
       "      <th>2</th>\n",
       "      <th>3</th>\n",
       "    </tr>\n",
       "  </thead>\n",
       "  <tbody>\n",
       "    <tr>\n",
       "      <th>0</th>\n",
       "      <td>2023</td>\n",
       "      <td>80000</td>\n",
       "      <td>85847</td>\n",
       "      <td>100</td>\n",
       "      <td>0.0</td>\n",
       "      <td>0.0</td>\n",
       "      <td>1.0</td>\n",
       "      <td>0.0</td>\n",
       "    </tr>\n",
       "    <tr>\n",
       "      <th>1</th>\n",
       "      <td>2023</td>\n",
       "      <td>30000</td>\n",
       "      <td>30000</td>\n",
       "      <td>100</td>\n",
       "      <td>1.0</td>\n",
       "      <td>0.0</td>\n",
       "      <td>0.0</td>\n",
       "      <td>0.0</td>\n",
       "    </tr>\n",
       "    <tr>\n",
       "      <th>2</th>\n",
       "      <td>2023</td>\n",
       "      <td>25500</td>\n",
       "      <td>25500</td>\n",
       "      <td>100</td>\n",
       "      <td>1.0</td>\n",
       "      <td>0.0</td>\n",
       "      <td>0.0</td>\n",
       "      <td>0.0</td>\n",
       "    </tr>\n",
       "    <tr>\n",
       "      <th>3</th>\n",
       "      <td>2023</td>\n",
       "      <td>175000</td>\n",
       "      <td>175000</td>\n",
       "      <td>100</td>\n",
       "      <td>0.0</td>\n",
       "      <td>0.0</td>\n",
       "      <td>1.0</td>\n",
       "      <td>0.0</td>\n",
       "    </tr>\n",
       "    <tr>\n",
       "      <th>4</th>\n",
       "      <td>2023</td>\n",
       "      <td>120000</td>\n",
       "      <td>120000</td>\n",
       "      <td>100</td>\n",
       "      <td>0.0</td>\n",
       "      <td>0.0</td>\n",
       "      <td>1.0</td>\n",
       "      <td>0.0</td>\n",
       "    </tr>\n",
       "    <tr>\n",
       "      <th>...</th>\n",
       "      <td>...</td>\n",
       "      <td>...</td>\n",
       "      <td>...</td>\n",
       "      <td>...</td>\n",
       "      <td>...</td>\n",
       "      <td>...</td>\n",
       "      <td>...</td>\n",
       "      <td>...</td>\n",
       "    </tr>\n",
       "    <tr>\n",
       "      <th>3750</th>\n",
       "      <td>2020</td>\n",
       "      <td>412000</td>\n",
       "      <td>412000</td>\n",
       "      <td>100</td>\n",
       "      <td>0.0</td>\n",
       "      <td>0.0</td>\n",
       "      <td>1.0</td>\n",
       "      <td>0.0</td>\n",
       "    </tr>\n",
       "    <tr>\n",
       "      <th>3751</th>\n",
       "      <td>2021</td>\n",
       "      <td>151000</td>\n",
       "      <td>151000</td>\n",
       "      <td>100</td>\n",
       "      <td>0.0</td>\n",
       "      <td>0.0</td>\n",
       "      <td>1.0</td>\n",
       "      <td>0.0</td>\n",
       "    </tr>\n",
       "    <tr>\n",
       "      <th>3752</th>\n",
       "      <td>2020</td>\n",
       "      <td>105000</td>\n",
       "      <td>105000</td>\n",
       "      <td>100</td>\n",
       "      <td>0.0</td>\n",
       "      <td>0.0</td>\n",
       "      <td>1.0</td>\n",
       "      <td>0.0</td>\n",
       "    </tr>\n",
       "    <tr>\n",
       "      <th>3753</th>\n",
       "      <td>2020</td>\n",
       "      <td>100000</td>\n",
       "      <td>100000</td>\n",
       "      <td>100</td>\n",
       "      <td>1.0</td>\n",
       "      <td>0.0</td>\n",
       "      <td>0.0</td>\n",
       "      <td>0.0</td>\n",
       "    </tr>\n",
       "    <tr>\n",
       "      <th>3754</th>\n",
       "      <td>2021</td>\n",
       "      <td>7000000</td>\n",
       "      <td>94665</td>\n",
       "      <td>50</td>\n",
       "      <td>0.0</td>\n",
       "      <td>0.0</td>\n",
       "      <td>1.0</td>\n",
       "      <td>0.0</td>\n",
       "    </tr>\n",
       "  </tbody>\n",
       "</table>\n",
       "<p>3755 rows × 8 columns</p>\n",
       "</div>"
      ],
      "text/plain": [
       "      work_year   salary  salary_in_usd  remote_ratio    0    1    2    3\n",
       "0          2023    80000          85847           100  0.0  0.0  1.0  0.0\n",
       "1          2023    30000          30000           100  1.0  0.0  0.0  0.0\n",
       "2          2023    25500          25500           100  1.0  0.0  0.0  0.0\n",
       "3          2023   175000         175000           100  0.0  0.0  1.0  0.0\n",
       "4          2023   120000         120000           100  0.0  0.0  1.0  0.0\n",
       "...         ...      ...            ...           ...  ...  ...  ...  ...\n",
       "3750       2020   412000         412000           100  0.0  0.0  1.0  0.0\n",
       "3751       2021   151000         151000           100  0.0  0.0  1.0  0.0\n",
       "3752       2020   105000         105000           100  0.0  0.0  1.0  0.0\n",
       "3753       2020   100000         100000           100  1.0  0.0  0.0  0.0\n",
       "3754       2021  7000000          94665            50  0.0  0.0  1.0  0.0\n",
       "\n",
       "[3755 rows x 8 columns]"
      ]
     },
     "execution_count": 41,
     "metadata": {},
     "output_type": "execute_result"
    }
   ],
   "source": [
    "df_encode =new_numeric_ds.join(enc_df)\n",
    "df_encode"
   ]
  },
  {
   "cell_type": "code",
   "execution_count": 43,
   "id": "f93c1a50-6103-4a34-8699-525fdc8096d1",
   "metadata": {},
   "outputs": [
    {
     "data": {
      "text/plain": [
       "work_year          2022.373635\n",
       "salary           190695.571771\n",
       "salary_in_usd    137570.389880\n",
       "remote_ratio         46.271638\n",
       "0                     0.002663\n",
       "1                     0.002663\n",
       "2                     0.990146\n",
       "3                     0.004527\n",
       "dtype: float64"
      ]
     },
     "execution_count": 43,
     "metadata": {},
     "output_type": "execute_result"
    }
   ],
   "source": [
    "df_encode.mean()"
   ]
  },
  {
   "cell_type": "code",
   "execution_count": null,
   "id": "9363bb4e-90ed-4f49-8247-ffa573836817",
   "metadata": {},
   "outputs": [],
   "source": [
    "df_encode.head(5)"
   ]
  }
 ],
 "metadata": {
  "kernelspec": {
   "display_name": "Python 3 (ipykernel)",
   "language": "python",
   "name": "python3"
  },
  "language_info": {
   "codemirror_mode": {
    "name": "ipython",
    "version": 3
   },
   "file_extension": ".py",
   "mimetype": "text/x-python",
   "name": "python",
   "nbconvert_exporter": "python",
   "pygments_lexer": "ipython3",
   "version": "3.12.4"
  }
 },
 "nbformat": 4,
 "nbformat_minor": 5
}
