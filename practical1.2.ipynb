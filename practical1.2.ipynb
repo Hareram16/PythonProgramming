{
 "cells": [
  {
   "cell_type": "code",
   "execution_count": 1,
   "id": "50eea898",
   "metadata": {},
   "outputs": [
    {
     "name": "stdout",
     "output_type": "stream",
     "text": [
      "[[85 90 78 92 88]\n",
      " [72 75 80 68 74]\n",
      " [95 88 92 96 90]\n",
      " [60 65 70 58 62]\n",
      " [88 84 86 89 87]]\n"
     ]
    }
   ],
   "source": [
    "import numpy as np\n",
    "scores = np.array([    [85, 90, 78, 92, 88],   \n",
    "                       [72, 75, 80, 68, 74], \n",
    "                       [95, 88, 92, 96, 90],     \n",
    "                       [60, 65, 70, 58, 62],  \n",
    "                       [88, 84, 86, 89, 87] ])     \n",
    "print(scores)"
   ]
  },
  {
   "cell_type": "code",
   "execution_count": 3,
   "id": "2bd49546",
   "metadata": {},
   "outputs": [
    {
     "name": "stdout",
     "output_type": "stream",
     "text": [
      "[95 88 92 96 90]\n"
     ]
    }
   ],
   "source": [
    "#Retrieve the scores of Student 3 for all subjects.\n",
    "print(scores[2])"
   ]
  },
  {
   "cell_type": "code",
   "execution_count": 5,
   "id": "cdd34075",
   "metadata": {},
   "outputs": [
    {
     "name": "stdout",
     "output_type": "stream",
     "text": [
      "[90 75 88 65 84]\n"
     ]
    }
   ],
   "source": [
    "#Retrieve the scores for Subject 2 (column 2) across all students.\n",
    "print(scores[:,1])"
   ]
  },
  {
   "cell_type": "code",
   "execution_count": 8,
   "id": "2d7db0be",
   "metadata": {},
   "outputs": [
    {
     "name": "stdout",
     "output_type": "stream",
     "text": [
      "[[85 90]\n",
      " [72 75]\n",
      " [95 88]]\n"
     ]
    }
   ],
   "source": [
    "#Extract the scores of the first 3 students for the first 2 subjects\n",
    "print(scores[:3,:2])"
   ]
  },
  {
   "cell_type": "code",
   "execution_count": 10,
   "id": "30e6ee1e",
   "metadata": {},
   "outputs": [
    {
     "name": "stdout",
     "output_type": "stream",
     "text": [
      "[[ 90  95  83  97  93]\n",
      " [ 77  80  85  73  79]\n",
      " [100  93  97 101  95]\n",
      " [ 65  70  75  63  67]\n",
      " [ 93  89  91  94  92]]\n"
     ]
    }
   ],
   "source": [
    "#Add 5 bonus marks to all scores. \n",
    "scores_bonus=scores+5\n",
    "print(scores_bonus)"
   ]
  },
  {
   "cell_type": "code",
   "execution_count": 23,
   "id": "ef59323b",
   "metadata": {},
   "outputs": [
    {
     "name": "stdout",
     "output_type": "stream",
     "text": [
      "[[85 90 78 82 88]\n",
      " [72 75 80 58 74]\n",
      " [95 88 92 86 90]\n",
      " [60 65 70 48 62]\n",
      " [88 84 86 79 87]]\n"
     ]
    }
   ],
   "source": [
    "#Subtract 10 marks from scores of Subject 4 for all students.\n",
    "scores[:,3]-=10\n",
    "print(scores)\n",
    "\n"
   ]
  },
  {
   "cell_type": "code",
   "execution_count": 27,
   "id": "56f3a50c",
   "metadata": {},
   "outputs": [
    {
     "name": "stdout",
     "output_type": "stream",
     "text": [
      "[84.6 71.8 90.2 61.  84.8]\n"
     ]
    }
   ],
   "source": [
    "#Calculate the percentage scores of each student assuming each subject is out of 100. \n",
    "percentage=(scores.sum(axis=1)/500)*100\n",
    "print(percentage)"
   ]
  },
  {
   "cell_type": "code",
   "execution_count": 31,
   "id": "ede31f04",
   "metadata": {},
   "outputs": [
    {
     "name": "stdout",
     "output_type": "stream",
     "text": [
      "[84.6 71.8 90.2 61.  84.8]\n"
     ]
    }
   ],
   "source": [
    "#Calculate the average score for each student across all subjects. \n",
    "avg=np.average(scores,axis=1)\n",
    "print(avg)"
   ]
  },
  {
   "cell_type": "code",
   "execution_count": 32,
   "id": "0a946030",
   "metadata": {},
   "outputs": [
    {
     "name": "stdout",
     "output_type": "stream",
     "text": [
      "[423 359 451 305 424]\n"
     ]
    }
   ],
   "source": [
    "#Find the total marks scored by each student. \n",
    "total_marks=scores.sum(axis=1)\n",
    "print(total_marks)"
   ]
  },
  {
   "cell_type": "code",
   "execution_count": 33,
   "id": "e0e14436",
   "metadata": {},
   "outputs": [
    {
     "name": "stdout",
     "output_type": "stream",
     "text": [
      "95\n"
     ]
    }
   ],
   "source": [
    "#Identify the highest score in the entire array. \n",
    "highest=scores.max()\n",
    "print(highest)"
   ]
  },
  {
   "cell_type": "code",
   "execution_count": 34,
   "id": "c4bcb374",
   "metadata": {},
   "outputs": [
    {
     "name": "stdout",
     "output_type": "stream",
     "text": [
      "[80.  80.4 81.2 70.6 80.2]\n"
     ]
    }
   ],
   "source": [
    "#Determine the average score for each subject. \n",
    "avg=np.average(scores,axis=0)\n",
    "print(avg)"
   ]
  },
  {
   "cell_type": "code",
   "execution_count": 35,
   "id": "14ac2203",
   "metadata": {},
   "outputs": [
    {
     "name": "stdout",
     "output_type": "stream",
     "text": [
      "4\n"
     ]
    }
   ],
   "source": [
    "#Find the student with the lowest average score.\n",
    "lowest_avg = np.argmin(avg)\n",
    "lowest_avg = lowest_avg + 1  \n",
    "print(lowest_avg)"
   ]
  },
  {
   "cell_type": "code",
   "execution_count": null,
   "id": "b05df6d9",
   "metadata": {},
   "outputs": [],
   "source": []
  }
 ],
 "metadata": {
  "kernelspec": {
   "display_name": "Python 3 (ipykernel)",
   "language": "python",
   "name": "python3"
  },
  "language_info": {
   "codemirror_mode": {
    "name": "ipython",
    "version": 3
   },
   "file_extension": ".py",
   "mimetype": "text/x-python",
   "name": "python",
   "nbconvert_exporter": "python",
   "pygments_lexer": "ipython3",
   "version": "3.11.4"
  }
 },
 "nbformat": 4,
 "nbformat_minor": 5
}
