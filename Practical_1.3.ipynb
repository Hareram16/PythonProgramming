{
 "cells": [
  {
   "cell_type": "code",
   "execution_count": 1,
   "id": "b7e2aeed",
   "metadata": {},
   "outputs": [],
   "source": [
    "import pandas as pd\n"
   ]
  },
  {
   "cell_type": "code",
   "execution_count": 2,
   "id": "b6805220",
   "metadata": {},
   "outputs": [],
   "source": [
    "data = { \"Math\": [85, 78, 92, 60, 74, 88],\n",
    " \"Science\": [80, 82, 89, 65, 70, 90],\n",
    "  \"English\": [75, 85, 78, 55, 72, 88], \n",
    "  \"History\": [70, 75, 80, 50, 68, 82] }"
   ]
  },
  {
   "cell_type": "code",
   "execution_count": 3,
   "id": "f1cd163d",
   "metadata": {},
   "outputs": [],
   "source": [
    " students = [\"Student 1\", \"Student 2\", \"Student 3\", \"Student 4\", \"Student 5\", \"Student 6\"]"
   ]
  },
  {
   "cell_type": "code",
   "execution_count": 7,
   "id": "e59ebe4b",
   "metadata": {},
   "outputs": [],
   "source": [
    "Score = pd.DataFrame(data, index=students)"
   ]
  },
  {
   "cell_type": "code",
   "execution_count": 8,
   "id": "2b128a86",
   "metadata": {},
   "outputs": [
    {
     "data": {
      "text/html": [
       "<div>\n",
       "<style scoped>\n",
       "    .dataframe tbody tr th:only-of-type {\n",
       "        vertical-align: middle;\n",
       "    }\n",
       "\n",
       "    .dataframe tbody tr th {\n",
       "        vertical-align: top;\n",
       "    }\n",
       "\n",
       "    .dataframe thead th {\n",
       "        text-align: right;\n",
       "    }\n",
       "</style>\n",
       "<table border=\"1\" class=\"dataframe\">\n",
       "  <thead>\n",
       "    <tr style=\"text-align: right;\">\n",
       "      <th></th>\n",
       "      <th>Math</th>\n",
       "      <th>Science</th>\n",
       "      <th>English</th>\n",
       "      <th>History</th>\n",
       "    </tr>\n",
       "  </thead>\n",
       "  <tbody>\n",
       "    <tr>\n",
       "      <th>Student 1</th>\n",
       "      <td>85</td>\n",
       "      <td>80</td>\n",
       "      <td>75</td>\n",
       "      <td>70</td>\n",
       "    </tr>\n",
       "    <tr>\n",
       "      <th>Student 2</th>\n",
       "      <td>78</td>\n",
       "      <td>82</td>\n",
       "      <td>85</td>\n",
       "      <td>75</td>\n",
       "    </tr>\n",
       "    <tr>\n",
       "      <th>Student 3</th>\n",
       "      <td>92</td>\n",
       "      <td>89</td>\n",
       "      <td>78</td>\n",
       "      <td>80</td>\n",
       "    </tr>\n",
       "    <tr>\n",
       "      <th>Student 4</th>\n",
       "      <td>60</td>\n",
       "      <td>65</td>\n",
       "      <td>55</td>\n",
       "      <td>50</td>\n",
       "    </tr>\n",
       "    <tr>\n",
       "      <th>Student 5</th>\n",
       "      <td>74</td>\n",
       "      <td>70</td>\n",
       "      <td>72</td>\n",
       "      <td>68</td>\n",
       "    </tr>\n",
       "    <tr>\n",
       "      <th>Student 6</th>\n",
       "      <td>88</td>\n",
       "      <td>90</td>\n",
       "      <td>88</td>\n",
       "      <td>82</td>\n",
       "    </tr>\n",
       "  </tbody>\n",
       "</table>\n",
       "</div>"
      ],
      "text/plain": [
       "           Math  Science  English  History\n",
       "Student 1    85       80       75       70\n",
       "Student 2    78       82       85       75\n",
       "Student 3    92       89       78       80\n",
       "Student 4    60       65       55       50\n",
       "Student 5    74       70       72       68\n",
       "Student 6    88       90       88       82"
      ]
     },
     "execution_count": 8,
     "metadata": {},
     "output_type": "execute_result"
    }
   ],
   "source": [
    "Score"
   ]
  },
  {
   "cell_type": "code",
   "execution_count": 9,
   "id": "89c750b5",
   "metadata": {},
   "outputs": [
    {
     "data": {
      "text/html": [
       "<div>\n",
       "<style scoped>\n",
       "    .dataframe tbody tr th:only-of-type {\n",
       "        vertical-align: middle;\n",
       "    }\n",
       "\n",
       "    .dataframe tbody tr th {\n",
       "        vertical-align: top;\n",
       "    }\n",
       "\n",
       "    .dataframe thead th {\n",
       "        text-align: right;\n",
       "    }\n",
       "</style>\n",
       "<table border=\"1\" class=\"dataframe\">\n",
       "  <thead>\n",
       "    <tr style=\"text-align: right;\">\n",
       "      <th></th>\n",
       "      <th>Math</th>\n",
       "      <th>Science</th>\n",
       "      <th>English</th>\n",
       "      <th>History</th>\n",
       "    </tr>\n",
       "  </thead>\n",
       "  <tbody>\n",
       "    <tr>\n",
       "      <th>Student 1</th>\n",
       "      <td>85</td>\n",
       "      <td>80</td>\n",
       "      <td>75</td>\n",
       "      <td>70</td>\n",
       "    </tr>\n",
       "    <tr>\n",
       "      <th>Student 2</th>\n",
       "      <td>78</td>\n",
       "      <td>82</td>\n",
       "      <td>85</td>\n",
       "      <td>75</td>\n",
       "    </tr>\n",
       "    <tr>\n",
       "      <th>Student 3</th>\n",
       "      <td>92</td>\n",
       "      <td>89</td>\n",
       "      <td>78</td>\n",
       "      <td>80</td>\n",
       "    </tr>\n",
       "  </tbody>\n",
       "</table>\n",
       "</div>"
      ],
      "text/plain": [
       "           Math  Science  English  History\n",
       "Student 1    85       80       75       70\n",
       "Student 2    78       82       85       75\n",
       "Student 3    92       89       78       80"
      ]
     },
     "execution_count": 9,
     "metadata": {},
     "output_type": "execute_result"
    }
   ],
   "source": [
    "#Display the first three rows of the exam_scores DataFrame.\n",
    "Score.head(3)"
   ]
  },
  {
   "cell_type": "code",
   "execution_count": 13,
   "id": "96e1224c",
   "metadata": {},
   "outputs": [
    {
     "name": "stdout",
     "output_type": "stream",
     "text": [
      "Total no of Students : 6 and total no of subjects : 4\n"
     ]
    }
   ],
   "source": [
    "# Get the total number of students and subjects recorded in the DataFrame.\n",
    "a,b=Score.shape\n",
    "print(f\"Total no of Students : {a} and total no of subjects : {b}\")\n"
   ]
  },
  {
   "cell_type": "code",
   "execution_count": 19,
   "id": "8f6a0af3",
   "metadata": {},
   "outputs": [
    {
     "name": "stdout",
     "output_type": "stream",
     "text": [
      "['Math', 'Science', 'English', 'History']\n",
      "['Student 1', 'Student 2', 'Student 3', 'Student 4', 'Student 5', 'Student 6']\n"
     ]
    }
   ],
   "source": [
    "#List all subject names and student names.\n",
    "subject=Score.columns.tolist()\n",
    "student=Score.index.tolist()\n",
    "print(subject)\n",
    "print(student)"
   ]
  },
  {
   "cell_type": "code",
   "execution_count": 20,
   "id": "072980fe",
   "metadata": {},
   "outputs": [
    {
     "name": "stdout",
     "output_type": "stream",
     "text": [
      "Math       int64\n",
      "Science    int64\n",
      "English    int64\n",
      "History    int64\n",
      "dtype: object\n"
     ]
    }
   ],
   "source": [
    "#Display the data type of each column in the DataFrame.\n",
    "print(Score.dtypes)"
   ]
  },
  {
   "cell_type": "code",
   "execution_count": 22,
   "id": "a33f8b73",
   "metadata": {},
   "outputs": [
    {
     "data": {
      "text/plain": [
       "Math       0\n",
       "Science    0\n",
       "English    0\n",
       "History    0\n",
       "dtype: int64"
      ]
     },
     "execution_count": 22,
     "metadata": {},
     "output_type": "execute_result"
    }
   ],
   "source": [
    "#Check if there are any missing values in the DataFrame.\n",
    "Score.isnull().sum()"
   ]
  },
  {
   "cell_type": "code",
   "execution_count": 34,
   "id": "be1d73b6",
   "metadata": {},
   "outputs": [
    {
     "name": "stdout",
     "output_type": "stream",
     "text": [
      "Math       92\n",
      "Science    89\n",
      "English    78\n",
      "History    80\n",
      "Name: Student 3, dtype: int64\n"
     ]
    }
   ],
   "source": [
    "# Retrieve the scores of \"Student 3\" in all subjects.\n",
    "print(Score.loc[\"Student 3\"])"
   ]
  },
  {
   "cell_type": "code",
   "execution_count": 35,
   "id": "ea418c46",
   "metadata": {},
   "outputs": [
    {
     "name": "stdout",
     "output_type": "stream",
     "text": [
      "Student 1    85\n",
      "Student 2    78\n",
      "Student 3    92\n",
      "Student 4    60\n",
      "Student 5    74\n",
      "Student 6    88\n",
      "Name: Math, dtype: int64\n"
     ]
    }
   ],
   "source": [
    "#Extract the scores of all students in \"Math\".\n",
    "print(Score[\"Math\"])"
   ]
  },
  {
   "cell_type": "code",
   "execution_count": 36,
   "id": "b1b70538",
   "metadata": {},
   "outputs": [
    {
     "name": "stdout",
     "output_type": "stream",
     "text": [
      "           Science  English\n",
      "Student 1       80       75\n",
      "Student 4       65       55\n"
     ]
    }
   ],
   "source": [
    "#Retrieve the scores of \"Student 1\" and \"Student 4\" in \"Science\" and \"English\".\n",
    "print(Score.iloc[[0,3],[1,2]])"
   ]
  },
  {
   "cell_type": "code",
   "execution_count": 38,
   "id": "197431c6",
   "metadata": {},
   "outputs": [
    {
     "name": "stdout",
     "output_type": "stream",
     "text": [
      "           Math  Science  English\n",
      "Student 1    85       80       75\n",
      "Student 2    78       82       85\n",
      "Student 3    92       89       78\n",
      "Student 4    60       65       55\n"
     ]
    }
   ],
   "source": [
    "#Slice the DataFrame to get the first 4 students and the first 3 subjects.\n",
    "print(Score.iloc[:4,:3])"
   ]
  },
  {
   "cell_type": "code",
   "execution_count": 40,
   "id": "77b31ba6",
   "metadata": {},
   "outputs": [
    {
     "name": "stdout",
     "output_type": "stream",
     "text": [
      "68\n"
     ]
    }
   ],
   "source": [
    "#Retrieve the score of \"Student 5\" in \"History\" using .loc or .iloc.\n",
    "print(Score.loc[\"Student 5\",\"History\"])"
   ]
  },
  {
   "cell_type": "code",
   "execution_count": 43,
   "id": "22f7f53c",
   "metadata": {},
   "outputs": [
    {
     "name": "stdout",
     "output_type": "stream",
     "text": [
      "85\n"
     ]
    }
   ],
   "source": [
    "#Update the score of \"Student 2\" in \"Math\" to 85.\n",
    "c=Score.loc[\"Student 2\",\"Math\"]=85\n",
    "print(c)"
   ]
  },
  {
   "cell_type": "code",
   "execution_count": 45,
   "id": "0df9dbdd",
   "metadata": {},
   "outputs": [
    {
     "name": "stdout",
     "output_type": "stream",
     "text": [
      "           Math  Science  English  History\n",
      "Student 1    85       80       75       70\n",
      "Student 2    85       82       85       75\n",
      "Student 3    92       89       78       80\n",
      "Student 4    60       65       55       50\n",
      "Student 5    74       70       72       68\n",
      "Student 6    88       90       88       82\n",
      "Student 7    90       85       88       80\n"
     ]
    }
   ],
   "source": [
    "#Add a new student, \"Student 7\", with scores [90, 85, 88, 80] for all subjects.\n",
    "Score.loc[\"Student 7\"]=[90, 85, 88, 80]\n",
    "print(Score)"
   ]
  },
  {
   "cell_type": "code",
   "execution_count": 46,
   "id": "6ab3e9fc",
   "metadata": {},
   "outputs": [
    {
     "name": "stdout",
     "output_type": "stream",
     "text": [
      "           Math  Science  English  History\n",
      "Student 1    90       85       80       75\n",
      "Student 2    90       87       90       80\n",
      "Student 3    97       94       83       85\n",
      "Student 4    65       70       60       55\n",
      "Student 5    79       75       77       73\n",
      "Student 6    93       95       93       87\n",
      "Student 7    95       90       93       85\n"
     ]
    }
   ],
   "source": [
    "# Add 5 bonus marks to all students' scores.\n",
    "Score=Score+5\n",
    "print(Score)"
   ]
  },
  {
   "cell_type": "code",
   "execution_count": 47,
   "id": "1c69d08b",
   "metadata": {},
   "outputs": [
    {
     "name": "stdout",
     "output_type": "stream",
     "text": [
      "Math       62\n",
      "Science    67\n",
      "English    57\n",
      "History    52\n",
      "Name: Student 4, dtype: int64\n"
     ]
    }
   ],
   "source": [
    "# Deduct 3 marks from the scores of \"Student 4\" in all subjects.\n",
    "print(Score.loc[\"Student 4\"]-3)"
   ]
  },
  {
   "cell_type": "code",
   "execution_count": 49,
   "id": "d7853f59",
   "metadata": {},
   "outputs": [
    {
     "name": "stdout",
     "output_type": "stream",
     "text": [
      "Student 1    82.50\n",
      "Student 2    86.75\n",
      "Student 3    89.75\n",
      "Student 4    62.50\n",
      "Student 5    76.00\n",
      "Student 6    92.00\n",
      "Student 7    90.75\n",
      "dtype: float64\n"
     ]
    }
   ],
   "source": [
    "# Calculate the percentage of marks obtained by each student, assuming each subject has a maximum of 100 marks.\n",
    "percentage=Score.sum(axis=1)/400*100\n",
    "print(percentage)"
   ]
  },
  {
   "cell_type": "code",
   "execution_count": 50,
   "id": "178588b0",
   "metadata": {},
   "outputs": [
    {
     "name": "stdout",
     "output_type": "stream",
     "text": [
      "Student 1    330\n",
      "Student 2    347\n",
      "Student 3    359\n",
      "Student 4    250\n",
      "Student 5    304\n",
      "Student 6    368\n",
      "Student 7    363\n",
      "dtype: int64\n"
     ]
    }
   ],
   "source": [
    "# Calculate the total marks obtained by each student.\n",
    "totalmarks=Score.sum(axis=1)\n",
    "print(totalmarks)"
   ]
  },
  {
   "cell_type": "code",
   "execution_count": 51,
   "id": "ed486ed0",
   "metadata": {},
   "outputs": [
    {
     "name": "stdout",
     "output_type": "stream",
     "text": [
      "Math       609\n",
      "Science    596\n",
      "English    576\n",
      "History    540\n",
      "dtype: int64\n"
     ]
    }
   ],
   "source": [
    "#Determine the total marks scored in each subject.\n",
    "sub_marks=Score.sum(axis=0)\n",
    "print(sub_marks)"
   ]
  },
  {
   "cell_type": "code",
   "execution_count": 53,
   "id": "7037b174",
   "metadata": {},
   "outputs": [
    {
     "name": "stdout",
     "output_type": "stream",
     "text": [
      "Student 6\n"
     ]
    }
   ],
   "source": [
    "#Identify the student with the highest total marks.\n",
    "highest=totalmarks.idxmax()\n",
    "print(highest)"
   ]
  },
  {
   "cell_type": "code",
   "execution_count": 54,
   "id": "572d3354",
   "metadata": {},
   "outputs": [
    {
     "name": "stdout",
     "output_type": "stream",
     "text": [
      "Student 4\n"
     ]
    }
   ],
   "source": [
    "# Find the subject with the lowest total marks.\n",
    "lowest=totalmarks.idxmin()\n",
    "print(lowest)"
   ]
  },
  {
   "cell_type": "code",
   "execution_count": 55,
   "id": "e34f4940",
   "metadata": {},
   "outputs": [
    {
     "name": "stdout",
     "output_type": "stream",
     "text": [
      "Student 1    82.50\n",
      "Student 2    86.75\n",
      "Student 3    89.75\n",
      "Student 4    62.50\n",
      "Student 5    76.00\n",
      "Student 6    92.00\n",
      "Student 7    90.75\n",
      "dtype: float64\n"
     ]
    }
   ],
   "source": [
    "#Compute the average marks scored by each student across all subjects\n",
    "avg=Score.mean(axis=1)\n",
    "print(avg)"
   ]
  },
  {
   "cell_type": "code",
   "execution_count": null,
   "id": "4dc57b53",
   "metadata": {},
   "outputs": [],
   "source": []
  }
 ],
 "metadata": {
  "kernelspec": {
   "display_name": "Python 3 (ipykernel)",
   "language": "python",
   "name": "python3"
  },
  "language_info": {
   "codemirror_mode": {
    "name": "ipython",
    "version": 3
   },
   "file_extension": ".py",
   "mimetype": "text/x-python",
   "name": "python",
   "nbconvert_exporter": "python",
   "pygments_lexer": "ipython3",
   "version": "3.11.4"
  }
 },
 "nbformat": 4,
 "nbformat_minor": 5
}
